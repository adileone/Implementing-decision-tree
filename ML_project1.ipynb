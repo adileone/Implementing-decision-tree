{
 "cells": [
  {
   "cell_type": "code",
   "execution_count": 56,
   "metadata": {},
   "outputs": [],
   "source": [
    "import numpy as np\n",
    "\n",
    "def get_target(y_data) :\n",
    "    \n",
    "    y_values = []\n",
    "    \n",
    "    for item in y_data:\n",
    "        \n",
    "        if item not in y_values:\n",
    "            y_values.append(item)\n",
    "            \n",
    "    return y_values"
   ]
  },
  {
   "cell_type": "code",
   "execution_count": 57,
   "metadata": {},
   "outputs": [],
   "source": [
    "def getFrequency(y_data, label) :\n",
    "    \n",
    "    length = len(y_data)\n",
    "    target = get_target(y_data)\n",
    "    frequency = 0 \n",
    "    matching = 0\n",
    "        \n",
    "    for item in y_data :\n",
    "            \n",
    "        if label == item :\n",
    "                \n",
    "            matching=matching+1\n",
    "                \n",
    "    frequency = matching/length\n",
    "    \n",
    "    return frequency           "
   ]
  },
  {
   "cell_type": "code",
   "execution_count": 58,
   "metadata": {},
   "outputs": [],
   "source": [
    "import math\n",
    "\n",
    "def getEntropy(y_data) :\n",
    "    \n",
    "    entropy = 0\n",
    "    target = get_target(y_data)\n",
    "    \n",
    "    for tg in target :\n",
    "        \n",
    "        f = getFrequency(y_data,tg)\n",
    "        entropy = entropy - f*math.log(f,2)\n",
    "        \n",
    "    return entropy"
   ]
  },
  {
   "cell_type": "code",
   "execution_count": 59,
   "metadata": {},
   "outputs": [],
   "source": [
    "import numpy as np\n",
    "\n",
    "def getProbability(column) :\n",
    "    \n",
    "    length = len(column)\n",
    "    target = get_target(column)\n",
    "    probability = []\n",
    "    \n",
    "    for tg in target :\n",
    "        matching = 0\n",
    "        for item in column :\n",
    "            \n",
    "            if tg == item :\n",
    "                matching=matching+1\n",
    "                \n",
    "            prob = matching/length\n",
    "        probability.append(prob)\n",
    "    \n",
    "    return probability"
   ]
  },
  {
   "cell_type": "code",
   "execution_count": 60,
   "metadata": {},
   "outputs": [],
   "source": [
    "def getConditionalEntropy(column,feature_value,y_data) :\n",
    "        \n",
    "        new_Y = []\n",
    "        conditionalEntropy=0\n",
    "        a=0\n",
    "        \n",
    "        for item in column :\n",
    "                        \n",
    "            if feature_value == item :\n",
    "                \n",
    "                new_Y.append(y_data[a])\n",
    "\n",
    "            a=a+1 \n",
    "                \n",
    "        probability = np.array(getProbability(new_Y)) \n",
    "        \n",
    "        for p in probability :\n",
    "    \n",
    "            conditionalEntropy = conditionalEntropy-p*math.log(p,2)\n",
    "        \n",
    "        return conditionalEntropy   "
   ]
  },
  {
   "cell_type": "code",
   "execution_count": 61,
   "metadata": {},
   "outputs": [],
   "source": [
    "def getInformationGain(column,y_data):\n",
    "    \n",
    "    probabilities = getProbability(column)\n",
    "    entropies = []\n",
    "    values=get_target(column)\n",
    "    informationGain=0\n",
    "    conditionalEntropy=0\n",
    "    \n",
    "    for item in values:\n",
    "        \n",
    "        x=getConditionalEntropy(column,item,y_data)\n",
    "        entropies.append(x)\n",
    "        \n",
    "    a=0\n",
    "    for el in probabilities:\n",
    "        \n",
    "        conditionalEntropy = conditionalEntropy + (probabilities[a]*entropies[a])\n",
    "        a=a+1\n",
    "        \n",
    "    informationGain = getEntropy(y_data) - conditionalEntropy\n",
    "    \n",
    "    return informationGain"
   ]
  },
  {
   "cell_type": "code",
   "execution_count": 62,
   "metadata": {},
   "outputs": [],
   "source": [
    "def computeBestSplit(x_data,y_data,feature_names):\n",
    "    \n",
    "    ig=[]\n",
    "    a=0\n",
    "    for column in x_data.T:\n",
    "        ig.append(getInformationGain(column,y_data))\n",
    "        a=a+1\n",
    "        \n",
    "        \n",
    "    return feature_names[np.argmax(ig)],np.argmax(ig)"
   ]
  },
  {
   "cell_type": "code",
   "execution_count": 63,
   "metadata": {},
   "outputs": [],
   "source": [
    "def getInducedSubDatasets (x_data,y_data,bestSplit):\n",
    "    \n",
    "    xT_data=x_data.T\n",
    "    target=get_target(xT_data[bestSplit[1]])\n",
    "    \n",
    "    inducedSubDatsets_x = []\n",
    "    inducedSubDatsets_y = []\n",
    "    \n",
    "    for tg in target :\n",
    "        \n",
    "        temp_x = []\n",
    "        temp_y = []\n",
    "        \n",
    "        a=0\n",
    "        for item in x_data :\n",
    "            \n",
    "            if tg==item[0] :\n",
    "                \n",
    "                temp_x.append(x_data[a])\n",
    "                temp_y.append(y_data[a])\n",
    "                \n",
    "            a=a+1\n",
    "            \n",
    "        inducedSubDatsets_x.append(temp_x)\n",
    "        inducedSubDatsets_y.append(temp_y)\n",
    "        \n",
    "    return np.array(inducedSubDatsets_x),np.array(inducedSubDatsets_y)   "
   ]
  },
  {
   "cell_type": "code",
   "execution_count": 64,
   "metadata": {},
   "outputs": [],
   "source": [
    "def pure(y_data):\n",
    "    \n",
    "    first=y_data[0]\n",
    "    pure= True\n",
    "    for item in y_data:\n",
    "        \n",
    "        if item!=first:\n",
    "            pure= False\n",
    "        \n",
    "    return pure"
   ]
  },
  {
   "cell_type": "code",
   "execution_count": 65,
   "metadata": {},
   "outputs": [],
   "source": [
    "def buildTree(x_data,y_data,feature_names):\n",
    "    \n",
    "    tree = []\n",
    "    \n",
    "    if pure(y_data): \n",
    "        return y_data[0]\n",
    "    \n",
    "    best_feature = computeBestSplit(x_data,y_data,feature_names)\n",
    "    \n",
    "    root=best_feature\n",
    "    \n",
    "    tree.append(root)\n",
    "    \n",
    "    subdataset=np.array(getInducedSubDatasets(x_data,y_data,best_feature))\n",
    "    \n",
    "    a=0\n",
    "    for item in subdataset[0] :\n",
    "        \n",
    "        x=np.array(subdataset.T[a,0])\n",
    "        y=np.array(subdataset.T[a,1])\n",
    "        \n",
    "        \n",
    "        if pure(y): \n",
    "            tree.append(y[0])\n",
    "        \n",
    "        else: \n",
    "            c = computeBestSplit(x,y,feature_names)\n",
    "            tree.append(c)\n",
    "              \n",
    "        a=a+1\n",
    "        \n",
    "    return tree"
   ]
  },
  {
   "cell_type": "code",
   "execution_count": 66,
   "metadata": {},
   "outputs": [
    {
     "name": "stdout",
     "output_type": "stream",
     "text": [
      "[('outlook', 0), ('humidity', 2), 'yes', ('wind', 3)]\n"
     ]
    }
   ],
   "source": [
    "import numpy as np\n",
    "\n",
    "X_data= np.array ([['Sunny','Hot','High','Weak'],\n",
    "        ['Sunny','Hot','High','Strong'],\n",
    "        ['Overcast','Hot','High','Weak'],\n",
    "        ['Rain','Mild','High','Weak'],\n",
    "        ['Rain','Cool','Normal','Weak'],\n",
    "        ['Rain','Cool','Normal','Strong'],\n",
    "        ['Overcast','Cool','Normal','Strong'],\n",
    "        ['Sunny','Mild','High','Weak'],\n",
    "        ['Sunny','Cool','Normal','Weak'],\n",
    "        ['Rain','Mild','Normal','Weak'],\n",
    "        ['Sunny','Mild','Normal','Strong'],\n",
    "        ['Overcast','Mild','High','Strong'],\n",
    "        ['Overcast','Hot','Normal','Weak'],\n",
    "        ['Rain','Mild','High','Strong']])\n",
    "\n",
    "y_data=np.array(['no','no','yes','yes','yes','no','yes','no','yes','yes','yes','yes','yes','no'])\n",
    "\n",
    "feature_names=np.array(['outlook','temperature','humidity','wind'])\n",
    "\n",
    "print(buildTree(X_data,y_data,feature_names))"
   ]
  },
  {
   "cell_type": "code",
   "execution_count": null,
   "metadata": {},
   "outputs": [],
   "source": [
    "    \n",
    "    "
   ]
  },
  {
   "cell_type": "code",
   "execution_count": null,
   "metadata": {},
   "outputs": [],
   "source": []
  }
 ],
 "metadata": {
  "kernelspec": {
   "display_name": "Python 3",
   "language": "python",
   "name": "python3"
  },
  "language_info": {
   "codemirror_mode": {
    "name": "ipython",
    "version": 3
   },
   "file_extension": ".py",
   "mimetype": "text/x-python",
   "name": "python",
   "nbconvert_exporter": "python",
   "pygments_lexer": "ipython3",
   "version": "3.6.5"
  }
 },
 "nbformat": 4,
 "nbformat_minor": 2
}
