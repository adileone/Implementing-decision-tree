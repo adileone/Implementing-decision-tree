{
 "cells": [
  {
   "cell_type": "code",
   "execution_count": 57,
   "metadata": {},
   "outputs": [],
   "source": [
    "def get_target(y_data) :\n",
    "    \n",
    "    y_values = []\n",
    "    \n",
    "    for item in y_data:\n",
    "        \n",
    "        if item not in y_values:\n",
    "            y_values.append(item)\n",
    "            \n",
    "    return y_values"
   ]
  },
  {
   "cell_type": "code",
   "execution_count": 72,
   "metadata": {},
   "outputs": [],
   "source": [
    "def getFrequency(y_data, label) :\n",
    "    \n",
    "    length = len(y_data)\n",
    "    target = get_target(y_data)\n",
    "    frequency = 0 \n",
    "    matching = 0\n",
    "        \n",
    "    for item in y_data :\n",
    "            \n",
    "        if label == item :\n",
    "                \n",
    "            matching=matching+1\n",
    "                \n",
    "    frequency = matching/length\n",
    "    \n",
    "    return frequency           "
   ]
  },
  {
   "cell_type": "code",
   "execution_count": 90,
   "metadata": {},
   "outputs": [],
   "source": [
    "import math\n",
    "\n",
    "def getEntropy(y_data) :\n",
    "    \n",
    "    entropy = 0\n",
    "    target = get_target(y_data)\n",
    "    \n",
    "    for tg in target :\n",
    "        \n",
    "        f = getFrequency(y_data,tg)\n",
    "        entropy = entropy - f*math.log(f,2)\n",
    "        print(entropy)\n",
    "    \n",
    "    return entropy"
   ]
  },
  {
   "cell_type": "code",
   "execution_count": 102,
   "metadata": {},
   "outputs": [
    {
     "name": "stdout",
     "output_type": "stream",
     "text": [
      "0.5283208335737187\n",
      "1.0566416671474375\n",
      "1.584962500721156\n"
     ]
    },
    {
     "data": {
      "text/plain": [
       "1.584962500721156"
      ]
     },
     "execution_count": 102,
     "metadata": {},
     "output_type": "execute_result"
    }
   ],
   "source": [
    "from sklearn import datasets\n",
    "\n",
    "data= ['yes','no','no']\n",
    "\n",
    "iris = datasets.load_iris()\n",
    "\n",
    "getEntropy(iris.target)"
   ]
  }
 ],
 "metadata": {
  "kernelspec": {
   "display_name": "Python 3",
   "language": "python",
   "name": "python3"
  },
  "language_info": {
   "codemirror_mode": {
    "name": "ipython",
    "version": 3
   },
   "file_extension": ".py",
   "mimetype": "text/x-python",
   "name": "python",
   "nbconvert_exporter": "python",
   "pygments_lexer": "ipython3",
   "version": "3.6.5"
  }
 },
 "nbformat": 4,
 "nbformat_minor": 2
}
