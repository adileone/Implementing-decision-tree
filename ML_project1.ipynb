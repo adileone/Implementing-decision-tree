{
 "cells": [
  {
   "cell_type": "code",
   "execution_count": 168,
   "metadata": {},
   "outputs": [],
   "source": [
    "def get_target(y_data) :\n",
    "    \n",
    "    y_values = []\n",
    "    \n",
    "    for item in y_data:\n",
    "        \n",
    "        if item not in y_values:\n",
    "            y_values.append(item)\n",
    "            \n",
    "    return y_values"
   ]
  },
  {
   "cell_type": "code",
   "execution_count": 169,
   "metadata": {},
   "outputs": [],
   "source": [
    "def getFrequency(y_data, label) :\n",
    "    \n",
    "    length = len(y_data)\n",
    "    target = get_target(y_data)\n",
    "    frequency = 0 \n",
    "    matching = 0\n",
    "        \n",
    "    for item in y_data :\n",
    "            \n",
    "        if label == item :\n",
    "                \n",
    "            matching=matching+1\n",
    "                \n",
    "    frequency = matching/length\n",
    "    \n",
    "    return frequency           "
   ]
  },
  {
   "cell_type": "code",
   "execution_count": 170,
   "metadata": {},
   "outputs": [],
   "source": [
    "import math\n",
    "\n",
    "def getEntropy(y_data) :\n",
    "    \n",
    "    entropy = 0\n",
    "    target = get_target(y_data)\n",
    "    \n",
    "    for tg in target :\n",
    "        \n",
    "        f = getFrequency(y_data,tg)\n",
    "        entropy = entropy - f*math.log(f,2)\n",
    "        \n",
    "    return entropy"
   ]
  },
  {
   "cell_type": "code",
   "execution_count": 171,
   "metadata": {},
   "outputs": [],
   "source": [
    "import numpy as np\n",
    "\n",
    "def getProbability(column) :\n",
    "    \n",
    "    length = len(column)\n",
    "    target = get_target(column)\n",
    "    probability = []\n",
    "    \n",
    "    for tg in target :\n",
    "        matching = 0\n",
    "        for item in column :\n",
    "            \n",
    "            if tg == item :\n",
    "                matching=matching+1\n",
    "                \n",
    "            prob = matching/length\n",
    "        probability.append(prob)\n",
    "    \n",
    "    return probability"
   ]
  },
  {
   "cell_type": "code",
   "execution_count": 172,
   "metadata": {},
   "outputs": [],
   "source": [
    "def getConditionalEntropy(column,feature_value,y_data) :\n",
    "        \n",
    "        new_Y = []\n",
    "        conditionalEntropy=0\n",
    "        a=0\n",
    "        \n",
    "        for item in column :\n",
    "                        \n",
    "            if feature_value == item :\n",
    "                \n",
    "                new_Y.append(y_data[a])\n",
    "\n",
    "            a=a+1 \n",
    "                \n",
    "        probability = np.array(getProbability(new_Y)) \n",
    "        \n",
    "        for p in probability :\n",
    "    \n",
    "            conditionalEntropy = conditionalEntropy-p*math.log(p,2)\n",
    "        \n",
    "        return conditionalEntropy   "
   ]
  },
  {
   "cell_type": "code",
   "execution_count": 173,
   "metadata": {},
   "outputs": [],
   "source": [
    "def getInformationGain(column,y_data):\n",
    "    \n",
    "    probabilities = getProbability(column)\n",
    "    entropies = []\n",
    "    values=get_target(column)\n",
    "    informationGain=0\n",
    "    conditionalEntropy=0\n",
    "    \n",
    "    for item in values:\n",
    "        \n",
    "        x=getConditionalEntropy(column,item,y_data)\n",
    "        entropies.append(x)\n",
    "        \n",
    "    a=0\n",
    "    for el in probabilities:\n",
    "        \n",
    "        conditionalEntropy = conditionalEntropy + (probabilities[a]*entropies[a])\n",
    "        a=a+1\n",
    "        \n",
    "    informationGain = getEntropy(y_data) - conditionalEntropy\n",
    "    \n",
    "    return informationGain"
   ]
  },
  {
   "cell_type": "code",
   "execution_count": 204,
   "metadata": {},
   "outputs": [],
   "source": [
    "def computeBestSplit(x_data,y_data,feature_names):\n",
    "    \n",
    "    ig=[]\n",
    "    a=0\n",
    "    for column in x_data.T:\n",
    "        ig.append(getInformationGain(column,y_data))\n",
    "        a=a+1\n",
    "        \n",
    "        \n",
    "    return feature_names[np.argmax(ig)]"
   ]
  },
  {
   "cell_type": "code",
   "execution_count": 205,
   "metadata": {},
   "outputs": [
    {
     "data": {
      "text/plain": [
       "'outlook'"
      ]
     },
     "execution_count": 205,
     "metadata": {},
     "output_type": "execute_result"
    }
   ],
   "source": [
    "from sklearn import datasets\n",
    "import numpy as np\n",
    "\n",
    "X_data= np.array ([['Sunny','Hot','High','Weak'],\n",
    "        ['Sunny','Hot','High','Strong'],\n",
    "        ['Overcast','Hot','High','Weak'],\n",
    "        ['Rain','Mild','High','Weak'],\n",
    "        ['Rain','Cool','Normal','Weak'],\n",
    "        ['Rain','Cool','Normal','Strong'],\n",
    "        ['Overcast','Cool','Normal','Strong'],\n",
    "        ['Sunny','Mild','High','Weak'],\n",
    "        ['Sunny','Cool','Normal','Weak'],\n",
    "        ['Rain','Mild','Normal','Weak'],\n",
    "        ['Sunny','Mild','Normal','Strong'],\n",
    "        ['Overcast','Mild','High','Strong'],\n",
    "        ['Overcast','Hot','Normal','Weak'],\n",
    "        ['Rain','Mild','High','Strong']])\n",
    "\n",
    "y_data=np.array(['no','no','yes','yes','yes','no','yes','no','yes','yes','yes','yes','yes','no'])\n",
    "\n",
    "feature_names=np.array(['outlook','temperature','humidity','wind'])\n",
    "\n",
    "computeBestSplit(X_data,y_data,feature_names)"
   ]
  },
  {
   "cell_type": "code",
   "execution_count": null,
   "metadata": {},
   "outputs": [],
   "source": []
  },
  {
   "cell_type": "code",
   "execution_count": null,
   "metadata": {},
   "outputs": [],
   "source": []
  }
 ],
 "metadata": {
  "kernelspec": {
   "display_name": "Python 3",
   "language": "python",
   "name": "python3"
  },
  "language_info": {
   "codemirror_mode": {
    "name": "ipython",
    "version": 3
   },
   "file_extension": ".py",
   "mimetype": "text/x-python",
   "name": "python",
   "nbconvert_exporter": "python",
   "pygments_lexer": "ipython3",
   "version": "3.6.5"
  }
 },
 "nbformat": 4,
 "nbformat_minor": 2
}
